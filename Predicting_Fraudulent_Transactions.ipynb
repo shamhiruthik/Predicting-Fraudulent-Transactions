{
  "metadata": {
    "kernelspec": {
      "language": "python",
      "display_name": "Python 3",
      "name": "python3"
    },
    "language_info": {
      "name": "python",
      "version": "3.10.10",
      "mimetype": "text/x-python",
      "codemirror_mode": {
        "name": "ipython",
        "version": 3
      },
      "pygments_lexer": "ipython3",
      "nbconvert_exporter": "python",
      "file_extension": ".py"
    },
    "colab": {
      "provenance": []
    }
  },
  "nbformat_minor": 0,
  "nbformat": 4,
  "cells": [
    {
      "cell_type": "markdown",
      "source": [
        "# Importing packages"
      ],
      "metadata": {
        "id": "WxDRmzAFiHHd"
      }
    },
    {
      "cell_type": "code",
      "source": [
        "import numpy as np\n",
        "import pandas as pd\n",
        "import matplotlib.pyplot as plt\n",
        "import seaborn as sns\n",
        "from sklearn.neighbors import KNeighborsClassifier\n",
        "from sklearn.ensemble import GradientBoostingClassifier\n",
        "from sklearn.model_selection import train_test_split\n",
        "from sklearn.metrics import f1_score\n",
        "from scipy import stats\n",
        "from xgboost import XGBClassifier\n",
        "from sklearn.metrics import classification_report\n",
        "from sklearn.preprocessing import MinMaxScaler\n",
        "from sklearn.model_selection import RandomizedSearchCV\n",
        "import gc"
      ],
      "metadata": {
        "_uuid": "8f2839f25d086af736a60e9eeb907d3b93b6e0e5",
        "_cell_guid": "b1076dfc-b9ad-4769-8c92-a6c4dae69d19",
        "execution": {
          "iopub.status.busy": "2023-06-06T04:21:02.419367Z",
          "iopub.execute_input": "2023-06-06T04:21:02.420251Z",
          "iopub.status.idle": "2023-06-06T04:21:02.426184Z",
          "shell.execute_reply.started": "2023-06-06T04:21:02.420209Z",
          "shell.execute_reply": "2023-06-06T04:21:02.424974Z"
        },
        "trusted": true,
        "id": "HRbDa0ypiHHg"
      },
      "execution_count": null,
      "outputs": []
    },
    {
      "cell_type": "markdown",
      "source": [
        "# Reading data with pandas\n",
        "\n",
        "\n"
      ],
      "metadata": {
        "id": "EtVH83fjiHHi"
      }
    },
    {
      "cell_type": "code",
      "source": [
        "df = pd.read_csv('/kaggle/input/predicting-fraudulent-transactions/Fraud.csv')"
      ],
      "metadata": {
        "execution": {
          "iopub.status.busy": "2023-06-06T03:31:09.541208Z",
          "iopub.execute_input": "2023-06-06T03:31:09.541533Z",
          "iopub.status.idle": "2023-06-06T03:31:27.250992Z",
          "shell.execute_reply.started": "2023-06-06T03:31:09.541507Z",
          "shell.execute_reply": "2023-06-06T03:31:27.249988Z"
        },
        "trusted": true,
        "id": "hNnzM3djiHHi"
      },
      "execution_count": null,
      "outputs": []
    },
    {
      "cell_type": "code",
      "source": [
        "df.head(5)"
      ],
      "metadata": {
        "execution": {
          "iopub.status.busy": "2023-06-06T03:31:27.252219Z",
          "iopub.execute_input": "2023-06-06T03:31:27.252513Z",
          "iopub.status.idle": "2023-06-06T03:31:27.289973Z",
          "shell.execute_reply.started": "2023-06-06T03:31:27.252489Z",
          "shell.execute_reply": "2023-06-06T03:31:27.288969Z"
        },
        "trusted": true,
        "id": "L7p2V4AliHHj",
        "outputId": "45e99321-c02f-4f8f-f1c8-e72a7dd7fb2d"
      },
      "execution_count": null,
      "outputs": [
        {
          "execution_count": 3,
          "output_type": "execute_result",
          "data": {
            "text/plain": "   step      type    amount     nameOrig  oldbalanceOrg  newbalanceOrig  \\\n0     1   PAYMENT   9839.64  C1231006815       170136.0       160296.36   \n1     1   PAYMENT   1864.28  C1666544295        21249.0        19384.72   \n2     1  TRANSFER    181.00  C1305486145          181.0            0.00   \n3     1  CASH_OUT    181.00   C840083671          181.0            0.00   \n4     1   PAYMENT  11668.14  C2048537720        41554.0        29885.86   \n\n      nameDest  oldbalanceDest  newbalanceDest  isFraud  isFlaggedFraud  \n0  M1979787155             0.0             0.0        0               0  \n1  M2044282225             0.0             0.0        0               0  \n2   C553264065             0.0             0.0        1               0  \n3    C38997010         21182.0             0.0        1               0  \n4  M1230701703             0.0             0.0        0               0  ",
            "text/html": "<div>\n<style scoped>\n    .dataframe tbody tr th:only-of-type {\n        vertical-align: middle;\n    }\n\n    .dataframe tbody tr th {\n        vertical-align: top;\n    }\n\n    .dataframe thead th {\n        text-align: right;\n    }\n</style>\n<table border=\"1\" class=\"dataframe\">\n  <thead>\n    <tr style=\"text-align: right;\">\n      <th></th>\n      <th>step</th>\n      <th>type</th>\n      <th>amount</th>\n      <th>nameOrig</th>\n      <th>oldbalanceOrg</th>\n      <th>newbalanceOrig</th>\n      <th>nameDest</th>\n      <th>oldbalanceDest</th>\n      <th>newbalanceDest</th>\n      <th>isFraud</th>\n      <th>isFlaggedFraud</th>\n    </tr>\n  </thead>\n  <tbody>\n    <tr>\n      <th>0</th>\n      <td>1</td>\n      <td>PAYMENT</td>\n      <td>9839.64</td>\n      <td>C1231006815</td>\n      <td>170136.0</td>\n      <td>160296.36</td>\n      <td>M1979787155</td>\n      <td>0.0</td>\n      <td>0.0</td>\n      <td>0</td>\n      <td>0</td>\n    </tr>\n    <tr>\n      <th>1</th>\n      <td>1</td>\n      <td>PAYMENT</td>\n      <td>1864.28</td>\n      <td>C1666544295</td>\n      <td>21249.0</td>\n      <td>19384.72</td>\n      <td>M2044282225</td>\n      <td>0.0</td>\n      <td>0.0</td>\n      <td>0</td>\n      <td>0</td>\n    </tr>\n    <tr>\n      <th>2</th>\n      <td>1</td>\n      <td>TRANSFER</td>\n      <td>181.00</td>\n      <td>C1305486145</td>\n      <td>181.0</td>\n      <td>0.00</td>\n      <td>C553264065</td>\n      <td>0.0</td>\n      <td>0.0</td>\n      <td>1</td>\n      <td>0</td>\n    </tr>\n    <tr>\n      <th>3</th>\n      <td>1</td>\n      <td>CASH_OUT</td>\n      <td>181.00</td>\n      <td>C840083671</td>\n      <td>181.0</td>\n      <td>0.00</td>\n      <td>C38997010</td>\n      <td>21182.0</td>\n      <td>0.0</td>\n      <td>1</td>\n      <td>0</td>\n    </tr>\n    <tr>\n      <th>4</th>\n      <td>1</td>\n      <td>PAYMENT</td>\n      <td>11668.14</td>\n      <td>C2048537720</td>\n      <td>41554.0</td>\n      <td>29885.86</td>\n      <td>M1230701703</td>\n      <td>0.0</td>\n      <td>0.0</td>\n      <td>0</td>\n      <td>0</td>\n    </tr>\n  </tbody>\n</table>\n</div>"
          },
          "metadata": {}
        }
      ]
    },
    {
      "cell_type": "markdown",
      "source": [
        "# Checking is there any null values present in every column?"
      ],
      "metadata": {
        "id": "aY9c1dSliHHl"
      }
    },
    {
      "cell_type": "code",
      "source": [
        "df.isnull().sum()"
      ],
      "metadata": {
        "execution": {
          "iopub.status.busy": "2023-06-06T03:31:27.291287Z",
          "iopub.execute_input": "2023-06-06T03:31:27.291603Z",
          "iopub.status.idle": "2023-06-06T03:31:30.082515Z",
          "shell.execute_reply.started": "2023-06-06T03:31:27.291578Z",
          "shell.execute_reply": "2023-06-06T03:31:30.081502Z"
        },
        "trusted": true,
        "id": "tq1WWKwuiHHl",
        "outputId": "0cc9e137-d797-48cf-acb9-a288d2cac8e7"
      },
      "execution_count": null,
      "outputs": [
        {
          "execution_count": 4,
          "output_type": "execute_result",
          "data": {
            "text/plain": "step              0\ntype              0\namount            0\nnameOrig          0\noldbalanceOrg     0\nnewbalanceOrig    0\nnameDest          0\noldbalanceDest    0\nnewbalanceDest    0\nisFraud           0\nisFlaggedFraud    0\ndtype: int64"
          },
          "metadata": {}
        }
      ]
    },
    {
      "cell_type": "markdown",
      "source": [
        "# Counting Unique Values in every column"
      ],
      "metadata": {
        "id": "lsUGnZTsiHHl"
      }
    },
    {
      "cell_type": "code",
      "source": [
        "for col in df.columns:\n",
        "    print(col, df[col].nunique())"
      ],
      "metadata": {
        "execution": {
          "iopub.status.busy": "2023-06-06T03:31:30.085128Z",
          "iopub.execute_input": "2023-06-06T03:31:30.085464Z",
          "iopub.status.idle": "2023-06-06T03:31:40.391637Z",
          "shell.execute_reply.started": "2023-06-06T03:31:30.085437Z",
          "shell.execute_reply": "2023-06-06T03:31:40.390576Z"
        },
        "trusted": true,
        "id": "SQyXg-MsiHHl",
        "outputId": "dce3dab1-d20a-4814-f18e-07b4e181719a"
      },
      "execution_count": null,
      "outputs": [
        {
          "name": "stdout",
          "text": "step 743\ntype 5\namount 5316900\nnameOrig 6353307\noldbalanceOrg 1845844\nnewbalanceOrig 2682586\nnameDest 2722362\noldbalanceDest 3614697\nnewbalanceDest 3555499\nisFraud 2\nisFlaggedFraud 2\n",
          "output_type": "stream"
        }
      ]
    },
    {
      "cell_type": "markdown",
      "source": [
        "# Counting unique classes in dependent column"
      ],
      "metadata": {
        "id": "5wiXX27miHHm"
      }
    },
    {
      "cell_type": "code",
      "source": [
        "df['isFraud'].value_counts()"
      ],
      "metadata": {
        "execution": {
          "iopub.status.busy": "2023-06-06T03:31:40.392809Z",
          "iopub.execute_input": "2023-06-06T03:31:40.393145Z",
          "iopub.status.idle": "2023-06-06T03:31:40.460241Z",
          "shell.execute_reply.started": "2023-06-06T03:31:40.393118Z",
          "shell.execute_reply": "2023-06-06T03:31:40.459248Z"
        },
        "trusted": true,
        "id": "NgRy5BI_iHHm",
        "outputId": "8485af64-1b9a-43f6-f22a-7e625eddf91a"
      },
      "execution_count": null,
      "outputs": [
        {
          "execution_count": 6,
          "output_type": "execute_result",
          "data": {
            "text/plain": "0    6354407\n1       8213\nName: isFraud, dtype: int64"
          },
          "metadata": {}
        }
      ]
    },
    {
      "cell_type": "code",
      "source": [
        "df['isFlaggedFraud'].value_counts()"
      ],
      "metadata": {
        "execution": {
          "iopub.status.busy": "2023-06-06T03:31:40.461500Z",
          "iopub.execute_input": "2023-06-06T03:31:40.461819Z",
          "iopub.status.idle": "2023-06-06T03:31:40.531813Z",
          "shell.execute_reply.started": "2023-06-06T03:31:40.461793Z",
          "shell.execute_reply": "2023-06-06T03:31:40.530773Z"
        },
        "trusted": true,
        "id": "lyNr-aV4iHHn",
        "outputId": "8456a2eb-9224-4846-9fe0-061c38ea909c"
      },
      "execution_count": null,
      "outputs": [
        {
          "execution_count": 7,
          "output_type": "execute_result",
          "data": {
            "text/plain": "0    6362604\n1         16\nName: isFlaggedFraud, dtype: int64"
          },
          "metadata": {}
        }
      ]
    },
    {
      "cell_type": "markdown",
      "source": [
        "# Removing unwanted column"
      ],
      "metadata": {
        "id": "GtFxV7KPiHHn"
      }
    },
    {
      "cell_type": "code",
      "source": [
        "drop_columns = ['nameOrig', 'nameDest']\n",
        "df.drop(drop_columns, axis=1, inplace=True)"
      ],
      "metadata": {
        "execution": {
          "iopub.status.busy": "2023-06-06T03:31:40.533056Z",
          "iopub.execute_input": "2023-06-06T03:31:40.533764Z",
          "iopub.status.idle": "2023-06-06T03:31:40.726112Z",
          "shell.execute_reply.started": "2023-06-06T03:31:40.533728Z",
          "shell.execute_reply": "2023-06-06T03:31:40.725219Z"
        },
        "trusted": true,
        "id": "HsSSoDggiHHn"
      },
      "execution_count": null,
      "outputs": []
    },
    {
      "cell_type": "code",
      "source": [
        "df.head()"
      ],
      "metadata": {
        "execution": {
          "iopub.status.busy": "2023-06-06T03:31:40.727356Z",
          "iopub.execute_input": "2023-06-06T03:31:40.727639Z",
          "iopub.status.idle": "2023-06-06T03:31:40.741881Z",
          "shell.execute_reply.started": "2023-06-06T03:31:40.727614Z",
          "shell.execute_reply": "2023-06-06T03:31:40.740777Z"
        },
        "trusted": true,
        "id": "JQ4JwsF3iHHn",
        "outputId": "f52baef2-d1b1-4033-c60c-ca1fd2e35684"
      },
      "execution_count": null,
      "outputs": [
        {
          "execution_count": 9,
          "output_type": "execute_result",
          "data": {
            "text/plain": "   step      type    amount  oldbalanceOrg  newbalanceOrig  oldbalanceDest  \\\n0     1   PAYMENT   9839.64       170136.0       160296.36             0.0   \n1     1   PAYMENT   1864.28        21249.0        19384.72             0.0   \n2     1  TRANSFER    181.00          181.0            0.00             0.0   \n3     1  CASH_OUT    181.00          181.0            0.00         21182.0   \n4     1   PAYMENT  11668.14        41554.0        29885.86             0.0   \n\n   newbalanceDest  isFraud  isFlaggedFraud  \n0             0.0        0               0  \n1             0.0        0               0  \n2             0.0        1               0  \n3             0.0        1               0  \n4             0.0        0               0  ",
            "text/html": "<div>\n<style scoped>\n    .dataframe tbody tr th:only-of-type {\n        vertical-align: middle;\n    }\n\n    .dataframe tbody tr th {\n        vertical-align: top;\n    }\n\n    .dataframe thead th {\n        text-align: right;\n    }\n</style>\n<table border=\"1\" class=\"dataframe\">\n  <thead>\n    <tr style=\"text-align: right;\">\n      <th></th>\n      <th>step</th>\n      <th>type</th>\n      <th>amount</th>\n      <th>oldbalanceOrg</th>\n      <th>newbalanceOrig</th>\n      <th>oldbalanceDest</th>\n      <th>newbalanceDest</th>\n      <th>isFraud</th>\n      <th>isFlaggedFraud</th>\n    </tr>\n  </thead>\n  <tbody>\n    <tr>\n      <th>0</th>\n      <td>1</td>\n      <td>PAYMENT</td>\n      <td>9839.64</td>\n      <td>170136.0</td>\n      <td>160296.36</td>\n      <td>0.0</td>\n      <td>0.0</td>\n      <td>0</td>\n      <td>0</td>\n    </tr>\n    <tr>\n      <th>1</th>\n      <td>1</td>\n      <td>PAYMENT</td>\n      <td>1864.28</td>\n      <td>21249.0</td>\n      <td>19384.72</td>\n      <td>0.0</td>\n      <td>0.0</td>\n      <td>0</td>\n      <td>0</td>\n    </tr>\n    <tr>\n      <th>2</th>\n      <td>1</td>\n      <td>TRANSFER</td>\n      <td>181.00</td>\n      <td>181.0</td>\n      <td>0.00</td>\n      <td>0.0</td>\n      <td>0.0</td>\n      <td>1</td>\n      <td>0</td>\n    </tr>\n    <tr>\n      <th>3</th>\n      <td>1</td>\n      <td>CASH_OUT</td>\n      <td>181.00</td>\n      <td>181.0</td>\n      <td>0.00</td>\n      <td>21182.0</td>\n      <td>0.0</td>\n      <td>1</td>\n      <td>0</td>\n    </tr>\n    <tr>\n      <th>4</th>\n      <td>1</td>\n      <td>PAYMENT</td>\n      <td>11668.14</td>\n      <td>41554.0</td>\n      <td>29885.86</td>\n      <td>0.0</td>\n      <td>0.0</td>\n      <td>0</td>\n      <td>0</td>\n    </tr>\n  </tbody>\n</table>\n</div>"
          },
          "metadata": {}
        }
      ]
    },
    {
      "cell_type": "markdown",
      "source": [
        "# Geting dummies for categorical(Object) column"
      ],
      "metadata": {
        "id": "E4aIZEBqiHHo"
      }
    },
    {
      "cell_type": "code",
      "source": [
        "df1 = pd.get_dummies(df['type'])\n",
        "df.drop(['type'], axis=1, inplace=True)"
      ],
      "metadata": {
        "execution": {
          "iopub.status.busy": "2023-06-06T03:31:40.743512Z",
          "iopub.execute_input": "2023-06-06T03:31:40.744182Z",
          "iopub.status.idle": "2023-06-06T03:31:41.608276Z",
          "shell.execute_reply.started": "2023-06-06T03:31:40.744145Z",
          "shell.execute_reply": "2023-06-06T03:31:41.607250Z"
        },
        "trusted": true,
        "id": "P5Hn8_ZAiHHo"
      },
      "execution_count": null,
      "outputs": []
    },
    {
      "cell_type": "code",
      "source": [
        "data = pd.concat([df, df1], axis=1)\n",
        "del df, df1\n",
        "gc.collect()"
      ],
      "metadata": {
        "execution": {
          "iopub.status.busy": "2023-06-06T03:32:20.094704Z",
          "iopub.execute_input": "2023-06-06T03:32:20.095552Z",
          "iopub.status.idle": "2023-06-06T03:32:20.243692Z",
          "shell.execute_reply.started": "2023-06-06T03:32:20.095512Z",
          "shell.execute_reply": "2023-06-06T03:32:20.242448Z"
        },
        "trusted": true,
        "id": "tBypW6jYiHHo",
        "outputId": "9306354e-2a2a-4675-de61-50f917f934f7"
      },
      "execution_count": null,
      "outputs": [
        {
          "execution_count": 14,
          "output_type": "execute_result",
          "data": {
            "text/plain": "958"
          },
          "metadata": {}
        }
      ]
    },
    {
      "cell_type": "code",
      "source": [
        "data.head()"
      ],
      "metadata": {
        "execution": {
          "iopub.status.busy": "2023-06-06T03:32:26.333886Z",
          "iopub.execute_input": "2023-06-06T03:32:26.334371Z",
          "iopub.status.idle": "2023-06-06T03:32:26.351437Z",
          "shell.execute_reply.started": "2023-06-06T03:32:26.334341Z",
          "shell.execute_reply": "2023-06-06T03:32:26.350211Z"
        },
        "trusted": true,
        "id": "U53RHqONiHHo",
        "outputId": "56c3114d-d115-4251-c7ca-896d26e0971f"
      },
      "execution_count": null,
      "outputs": [
        {
          "execution_count": 15,
          "output_type": "execute_result",
          "data": {
            "text/plain": "   step    amount  oldbalanceOrg  newbalanceOrig  oldbalanceDest  \\\n0     1   9839.64       170136.0       160296.36             0.0   \n1     1   1864.28        21249.0        19384.72             0.0   \n2     1    181.00          181.0            0.00             0.0   \n3     1    181.00          181.0            0.00         21182.0   \n4     1  11668.14        41554.0        29885.86             0.0   \n\n   newbalanceDest  isFraud  isFlaggedFraud  CASH_IN  CASH_OUT  DEBIT  PAYMENT  \\\n0             0.0        0               0        0         0      0        1   \n1             0.0        0               0        0         0      0        1   \n2             0.0        1               0        0         0      0        0   \n3             0.0        1               0        0         1      0        0   \n4             0.0        0               0        0         0      0        1   \n\n   TRANSFER  \n0         0  \n1         0  \n2         1  \n3         0  \n4         0  ",
            "text/html": "<div>\n<style scoped>\n    .dataframe tbody tr th:only-of-type {\n        vertical-align: middle;\n    }\n\n    .dataframe tbody tr th {\n        vertical-align: top;\n    }\n\n    .dataframe thead th {\n        text-align: right;\n    }\n</style>\n<table border=\"1\" class=\"dataframe\">\n  <thead>\n    <tr style=\"text-align: right;\">\n      <th></th>\n      <th>step</th>\n      <th>amount</th>\n      <th>oldbalanceOrg</th>\n      <th>newbalanceOrig</th>\n      <th>oldbalanceDest</th>\n      <th>newbalanceDest</th>\n      <th>isFraud</th>\n      <th>isFlaggedFraud</th>\n      <th>CASH_IN</th>\n      <th>CASH_OUT</th>\n      <th>DEBIT</th>\n      <th>PAYMENT</th>\n      <th>TRANSFER</th>\n    </tr>\n  </thead>\n  <tbody>\n    <tr>\n      <th>0</th>\n      <td>1</td>\n      <td>9839.64</td>\n      <td>170136.0</td>\n      <td>160296.36</td>\n      <td>0.0</td>\n      <td>0.0</td>\n      <td>0</td>\n      <td>0</td>\n      <td>0</td>\n      <td>0</td>\n      <td>0</td>\n      <td>1</td>\n      <td>0</td>\n    </tr>\n    <tr>\n      <th>1</th>\n      <td>1</td>\n      <td>1864.28</td>\n      <td>21249.0</td>\n      <td>19384.72</td>\n      <td>0.0</td>\n      <td>0.0</td>\n      <td>0</td>\n      <td>0</td>\n      <td>0</td>\n      <td>0</td>\n      <td>0</td>\n      <td>1</td>\n      <td>0</td>\n    </tr>\n    <tr>\n      <th>2</th>\n      <td>1</td>\n      <td>181.00</td>\n      <td>181.0</td>\n      <td>0.00</td>\n      <td>0.0</td>\n      <td>0.0</td>\n      <td>1</td>\n      <td>0</td>\n      <td>0</td>\n      <td>0</td>\n      <td>0</td>\n      <td>0</td>\n      <td>1</td>\n    </tr>\n    <tr>\n      <th>3</th>\n      <td>1</td>\n      <td>181.00</td>\n      <td>181.0</td>\n      <td>0.00</td>\n      <td>21182.0</td>\n      <td>0.0</td>\n      <td>1</td>\n      <td>0</td>\n      <td>0</td>\n      <td>1</td>\n      <td>0</td>\n      <td>0</td>\n      <td>0</td>\n    </tr>\n    <tr>\n      <th>4</th>\n      <td>1</td>\n      <td>11668.14</td>\n      <td>41554.0</td>\n      <td>29885.86</td>\n      <td>0.0</td>\n      <td>0.0</td>\n      <td>0</td>\n      <td>0</td>\n      <td>0</td>\n      <td>0</td>\n      <td>0</td>\n      <td>1</td>\n      <td>0</td>\n    </tr>\n  </tbody>\n</table>\n</div>"
          },
          "metadata": {}
        }
      ]
    },
    {
      "cell_type": "markdown",
      "source": [
        "# Creating new column with existing 'amount' column"
      ],
      "metadata": {
        "id": "wZo5Qe6BiHHo"
      }
    },
    {
      "cell_type": "code",
      "source": [
        "data['is>200'] = data['amount'] > 200"
      ],
      "metadata": {
        "execution": {
          "iopub.status.busy": "2023-06-06T03:32:32.999253Z",
          "iopub.execute_input": "2023-06-06T03:32:32.999616Z",
          "iopub.status.idle": "2023-06-06T03:32:33.013493Z",
          "shell.execute_reply.started": "2023-06-06T03:32:32.999589Z",
          "shell.execute_reply": "2023-06-06T03:32:33.012595Z"
        },
        "trusted": true,
        "id": "wEc8DOd8iHHo"
      },
      "execution_count": null,
      "outputs": []
    },
    {
      "cell_type": "code",
      "source": [
        "data['is>200'] = data['is>200'].astype('int')"
      ],
      "metadata": {
        "execution": {
          "iopub.status.busy": "2023-06-06T03:32:36.214635Z",
          "iopub.execute_input": "2023-06-06T03:32:36.215011Z",
          "iopub.status.idle": "2023-06-06T03:32:36.254951Z",
          "shell.execute_reply.started": "2023-06-06T03:32:36.214983Z",
          "shell.execute_reply": "2023-06-06T03:32:36.254026Z"
        },
        "trusted": true,
        "id": "vHHANGZPiHHp"
      },
      "execution_count": null,
      "outputs": []
    },
    {
      "cell_type": "code",
      "source": [
        "data.head()"
      ],
      "metadata": {
        "execution": {
          "iopub.status.busy": "2023-06-06T03:32:39.158559Z",
          "iopub.execute_input": "2023-06-06T03:32:39.159529Z",
          "iopub.status.idle": "2023-06-06T03:32:39.175938Z",
          "shell.execute_reply.started": "2023-06-06T03:32:39.159493Z",
          "shell.execute_reply": "2023-06-06T03:32:39.174820Z"
        },
        "trusted": true,
        "id": "rYGcNvCOiHHp",
        "outputId": "4bbe4768-c2c7-43be-bc2a-917df6333bc1"
      },
      "execution_count": null,
      "outputs": [
        {
          "execution_count": 18,
          "output_type": "execute_result",
          "data": {
            "text/plain": "   step    amount  oldbalanceOrg  newbalanceOrig  oldbalanceDest  \\\n0     1   9839.64       170136.0       160296.36             0.0   \n1     1   1864.28        21249.0        19384.72             0.0   \n2     1    181.00          181.0            0.00             0.0   \n3     1    181.00          181.0            0.00         21182.0   \n4     1  11668.14        41554.0        29885.86             0.0   \n\n   newbalanceDest  isFraud  isFlaggedFraud  CASH_IN  CASH_OUT  DEBIT  PAYMENT  \\\n0             0.0        0               0        0         0      0        1   \n1             0.0        0               0        0         0      0        1   \n2             0.0        1               0        0         0      0        0   \n3             0.0        1               0        0         1      0        0   \n4             0.0        0               0        0         0      0        1   \n\n   TRANSFER  is>200  \n0         0       1  \n1         0       1  \n2         1       0  \n3         0       0  \n4         0       1  ",
            "text/html": "<div>\n<style scoped>\n    .dataframe tbody tr th:only-of-type {\n        vertical-align: middle;\n    }\n\n    .dataframe tbody tr th {\n        vertical-align: top;\n    }\n\n    .dataframe thead th {\n        text-align: right;\n    }\n</style>\n<table border=\"1\" class=\"dataframe\">\n  <thead>\n    <tr style=\"text-align: right;\">\n      <th></th>\n      <th>step</th>\n      <th>amount</th>\n      <th>oldbalanceOrg</th>\n      <th>newbalanceOrig</th>\n      <th>oldbalanceDest</th>\n      <th>newbalanceDest</th>\n      <th>isFraud</th>\n      <th>isFlaggedFraud</th>\n      <th>CASH_IN</th>\n      <th>CASH_OUT</th>\n      <th>DEBIT</th>\n      <th>PAYMENT</th>\n      <th>TRANSFER</th>\n      <th>is&gt;200</th>\n    </tr>\n  </thead>\n  <tbody>\n    <tr>\n      <th>0</th>\n      <td>1</td>\n      <td>9839.64</td>\n      <td>170136.0</td>\n      <td>160296.36</td>\n      <td>0.0</td>\n      <td>0.0</td>\n      <td>0</td>\n      <td>0</td>\n      <td>0</td>\n      <td>0</td>\n      <td>0</td>\n      <td>1</td>\n      <td>0</td>\n      <td>1</td>\n    </tr>\n    <tr>\n      <th>1</th>\n      <td>1</td>\n      <td>1864.28</td>\n      <td>21249.0</td>\n      <td>19384.72</td>\n      <td>0.0</td>\n      <td>0.0</td>\n      <td>0</td>\n      <td>0</td>\n      <td>0</td>\n      <td>0</td>\n      <td>0</td>\n      <td>1</td>\n      <td>0</td>\n      <td>1</td>\n    </tr>\n    <tr>\n      <th>2</th>\n      <td>1</td>\n      <td>181.00</td>\n      <td>181.0</td>\n      <td>0.00</td>\n      <td>0.0</td>\n      <td>0.0</td>\n      <td>1</td>\n      <td>0</td>\n      <td>0</td>\n      <td>0</td>\n      <td>0</td>\n      <td>0</td>\n      <td>1</td>\n      <td>0</td>\n    </tr>\n    <tr>\n      <th>3</th>\n      <td>1</td>\n      <td>181.00</td>\n      <td>181.0</td>\n      <td>0.00</td>\n      <td>21182.0</td>\n      <td>0.0</td>\n      <td>1</td>\n      <td>0</td>\n      <td>0</td>\n      <td>1</td>\n      <td>0</td>\n      <td>0</td>\n      <td>0</td>\n      <td>0</td>\n    </tr>\n    <tr>\n      <th>4</th>\n      <td>1</td>\n      <td>11668.14</td>\n      <td>41554.0</td>\n      <td>29885.86</td>\n      <td>0.0</td>\n      <td>0.0</td>\n      <td>0</td>\n      <td>0</td>\n      <td>0</td>\n      <td>0</td>\n      <td>0</td>\n      <td>1</td>\n      <td>0</td>\n      <td>1</td>\n    </tr>\n  </tbody>\n</table>\n</div>"
          },
          "metadata": {}
        }
      ]
    },
    {
      "cell_type": "code",
      "source": [
        "data1 = data.copy()"
      ],
      "metadata": {
        "execution": {
          "iopub.status.busy": "2023-06-06T03:32:43.294581Z",
          "iopub.execute_input": "2023-06-06T03:32:43.294955Z",
          "iopub.status.idle": "2023-06-06T03:32:43.683921Z",
          "shell.execute_reply.started": "2023-06-06T03:32:43.294927Z",
          "shell.execute_reply": "2023-06-06T03:32:43.682976Z"
        },
        "trusted": true,
        "id": "LP2LjWwLiHHp"
      },
      "execution_count": null,
      "outputs": []
    },
    {
      "cell_type": "markdown",
      "source": [
        "# Normalizing Column which has continuos values"
      ],
      "metadata": {
        "id": "ESAf-S3CiHHp"
      }
    },
    {
      "cell_type": "code",
      "source": [
        "nor = ['amount','oldbalanceOrg','newbalanceOrig','oldbalanceDest']\n",
        "for i in nor:\n",
        "    data[i] = stats.zscore(data[i], axis=None)"
      ],
      "metadata": {
        "execution": {
          "iopub.status.busy": "2023-06-06T03:32:48.733437Z",
          "iopub.execute_input": "2023-06-06T03:32:48.733816Z",
          "iopub.status.idle": "2023-06-06T03:32:49.331794Z",
          "shell.execute_reply.started": "2023-06-06T03:32:48.733786Z",
          "shell.execute_reply": "2023-06-06T03:32:49.330756Z"
        },
        "trusted": true,
        "id": "4sBqVP5QiHHp"
      },
      "execution_count": null,
      "outputs": []
    },
    {
      "cell_type": "code",
      "source": [
        "data.head()"
      ],
      "metadata": {
        "execution": {
          "iopub.status.busy": "2023-06-06T03:32:59.904681Z",
          "iopub.execute_input": "2023-06-06T03:32:59.905083Z",
          "iopub.status.idle": "2023-06-06T03:32:59.921280Z",
          "shell.execute_reply.started": "2023-06-06T03:32:59.905028Z",
          "shell.execute_reply": "2023-06-06T03:32:59.920150Z"
        },
        "trusted": true,
        "id": "OC01b0GCiHHq",
        "outputId": "67e6e8db-3f43-474a-c75d-994373bee5c3"
      },
      "execution_count": null,
      "outputs": [
        {
          "execution_count": 22,
          "output_type": "execute_result",
          "data": {
            "text/plain": "   step    amount  oldbalanceOrg  newbalanceOrig  oldbalanceDest  \\\n0     1 -0.281560      -0.229810       -0.237622       -0.323814   \n1     1 -0.294767      -0.281359       -0.285812       -0.323814   \n2     1 -0.297555      -0.288654       -0.292442       -0.323814   \n3     1 -0.297555      -0.288654       -0.292442       -0.317582   \n4     1 -0.278532      -0.274329       -0.282221       -0.323814   \n\n   newbalanceDest  isFraud  isFlaggedFraud  CASH_IN  CASH_OUT  DEBIT  PAYMENT  \\\n0             0.0        0               0        0         0      0        1   \n1             0.0        0               0        0         0      0        1   \n2             0.0        1               0        0         0      0        0   \n3             0.0        1               0        0         1      0        0   \n4             0.0        0               0        0         0      0        1   \n\n   TRANSFER  is>200  \n0         0       1  \n1         0       1  \n2         1       0  \n3         0       0  \n4         0       1  ",
            "text/html": "<div>\n<style scoped>\n    .dataframe tbody tr th:only-of-type {\n        vertical-align: middle;\n    }\n\n    .dataframe tbody tr th {\n        vertical-align: top;\n    }\n\n    .dataframe thead th {\n        text-align: right;\n    }\n</style>\n<table border=\"1\" class=\"dataframe\">\n  <thead>\n    <tr style=\"text-align: right;\">\n      <th></th>\n      <th>step</th>\n      <th>amount</th>\n      <th>oldbalanceOrg</th>\n      <th>newbalanceOrig</th>\n      <th>oldbalanceDest</th>\n      <th>newbalanceDest</th>\n      <th>isFraud</th>\n      <th>isFlaggedFraud</th>\n      <th>CASH_IN</th>\n      <th>CASH_OUT</th>\n      <th>DEBIT</th>\n      <th>PAYMENT</th>\n      <th>TRANSFER</th>\n      <th>is&gt;200</th>\n    </tr>\n  </thead>\n  <tbody>\n    <tr>\n      <th>0</th>\n      <td>1</td>\n      <td>-0.281560</td>\n      <td>-0.229810</td>\n      <td>-0.237622</td>\n      <td>-0.323814</td>\n      <td>0.0</td>\n      <td>0</td>\n      <td>0</td>\n      <td>0</td>\n      <td>0</td>\n      <td>0</td>\n      <td>1</td>\n      <td>0</td>\n      <td>1</td>\n    </tr>\n    <tr>\n      <th>1</th>\n      <td>1</td>\n      <td>-0.294767</td>\n      <td>-0.281359</td>\n      <td>-0.285812</td>\n      <td>-0.323814</td>\n      <td>0.0</td>\n      <td>0</td>\n      <td>0</td>\n      <td>0</td>\n      <td>0</td>\n      <td>0</td>\n      <td>1</td>\n      <td>0</td>\n      <td>1</td>\n    </tr>\n    <tr>\n      <th>2</th>\n      <td>1</td>\n      <td>-0.297555</td>\n      <td>-0.288654</td>\n      <td>-0.292442</td>\n      <td>-0.323814</td>\n      <td>0.0</td>\n      <td>1</td>\n      <td>0</td>\n      <td>0</td>\n      <td>0</td>\n      <td>0</td>\n      <td>0</td>\n      <td>1</td>\n      <td>0</td>\n    </tr>\n    <tr>\n      <th>3</th>\n      <td>1</td>\n      <td>-0.297555</td>\n      <td>-0.288654</td>\n      <td>-0.292442</td>\n      <td>-0.317582</td>\n      <td>0.0</td>\n      <td>1</td>\n      <td>0</td>\n      <td>0</td>\n      <td>1</td>\n      <td>0</td>\n      <td>0</td>\n      <td>0</td>\n      <td>0</td>\n    </tr>\n    <tr>\n      <th>4</th>\n      <td>1</td>\n      <td>-0.278532</td>\n      <td>-0.274329</td>\n      <td>-0.282221</td>\n      <td>-0.323814</td>\n      <td>0.0</td>\n      <td>0</td>\n      <td>0</td>\n      <td>0</td>\n      <td>0</td>\n      <td>0</td>\n      <td>1</td>\n      <td>0</td>\n      <td>1</td>\n    </tr>\n  </tbody>\n</table>\n</div>"
          },
          "metadata": {}
        }
      ]
    },
    {
      "cell_type": "markdown",
      "source": [
        "# Model Creation Training and Testing - KNN\n",
        "\n",
        " Here i have used KNN Model which ia a supervised machine learning algorithm.It classifies and predict a new type of data instances with the simalrity of the training set(instances).So, this model calculates the distance between the new data point and all training instances and further it will selects the K nearest neighbours and conclude the class label or predict the output values based on majority or average of neighbours. "
      ],
      "metadata": {
        "id": "O8fwsOJxiHHq"
      }
    },
    {
      "cell_type": "code",
      "source": [
        "x = data.drop(['isFraud', 'isFlaggedFraud'], axis=1)\n",
        "y = data['isFraud']"
      ],
      "metadata": {
        "execution": {
          "iopub.status.busy": "2023-06-06T03:33:10.867798Z",
          "iopub.execute_input": "2023-06-06T03:33:10.868541Z",
          "iopub.status.idle": "2023-06-06T03:33:11.119873Z",
          "shell.execute_reply.started": "2023-06-06T03:33:10.868508Z",
          "shell.execute_reply": "2023-06-06T03:33:11.119133Z"
        },
        "trusted": true,
        "id": "hEF_GRjdiHHq"
      },
      "execution_count": null,
      "outputs": []
    },
    {
      "cell_type": "code",
      "source": [
        "x_train, x_test, y_train, y_test = train_test_split(x, y, test_size=.5, random_state=10, shuffle=True, stratify=y)"
      ],
      "metadata": {
        "execution": {
          "iopub.status.busy": "2023-06-06T03:33:13.382129Z",
          "iopub.execute_input": "2023-06-06T03:33:13.382926Z",
          "iopub.status.idle": "2023-06-06T03:33:17.647316Z",
          "shell.execute_reply.started": "2023-06-06T03:33:13.382874Z",
          "shell.execute_reply": "2023-06-06T03:33:17.646542Z"
        },
        "trusted": true,
        "id": "M57gR74qiHHq"
      },
      "execution_count": null,
      "outputs": []
    },
    {
      "cell_type": "code",
      "source": [
        "knn = KNeighborsClassifier(n_neighbors=2)\n",
        "knn.fit(x_train, y_train)"
      ],
      "metadata": {
        "execution": {
          "iopub.status.busy": "2023-06-06T03:33:33.534514Z",
          "iopub.execute_input": "2023-06-06T03:33:33.534874Z",
          "iopub.status.idle": "2023-06-06T03:33:48.941694Z",
          "shell.execute_reply.started": "2023-06-06T03:33:33.534847Z",
          "shell.execute_reply": "2023-06-06T03:33:48.940754Z"
        },
        "trusted": true,
        "id": "G6XzERLmiHHq",
        "outputId": "cb684d38-6933-4138-988f-55b1a417dffc"
      },
      "execution_count": null,
      "outputs": [
        {
          "execution_count": 25,
          "output_type": "execute_result",
          "data": {
            "text/plain": "KNeighborsClassifier(n_neighbors=2)",
            "text/html": "<style>#sk-container-id-1 {color: black;background-color: white;}#sk-container-id-1 pre{padding: 0;}#sk-container-id-1 div.sk-toggleable {background-color: white;}#sk-container-id-1 label.sk-toggleable__label {cursor: pointer;display: block;width: 100%;margin-bottom: 0;padding: 0.3em;box-sizing: border-box;text-align: center;}#sk-container-id-1 label.sk-toggleable__label-arrow:before {content: \"▸\";float: left;margin-right: 0.25em;color: #696969;}#sk-container-id-1 label.sk-toggleable__label-arrow:hover:before {color: black;}#sk-container-id-1 div.sk-estimator:hover label.sk-toggleable__label-arrow:before {color: black;}#sk-container-id-1 div.sk-toggleable__content {max-height: 0;max-width: 0;overflow: hidden;text-align: left;background-color: #f0f8ff;}#sk-container-id-1 div.sk-toggleable__content pre {margin: 0.2em;color: black;border-radius: 0.25em;background-color: #f0f8ff;}#sk-container-id-1 input.sk-toggleable__control:checked~div.sk-toggleable__content {max-height: 200px;max-width: 100%;overflow: auto;}#sk-container-id-1 input.sk-toggleable__control:checked~label.sk-toggleable__label-arrow:before {content: \"▾\";}#sk-container-id-1 div.sk-estimator input.sk-toggleable__control:checked~label.sk-toggleable__label {background-color: #d4ebff;}#sk-container-id-1 div.sk-label input.sk-toggleable__control:checked~label.sk-toggleable__label {background-color: #d4ebff;}#sk-container-id-1 input.sk-hidden--visually {border: 0;clip: rect(1px 1px 1px 1px);clip: rect(1px, 1px, 1px, 1px);height: 1px;margin: -1px;overflow: hidden;padding: 0;position: absolute;width: 1px;}#sk-container-id-1 div.sk-estimator {font-family: monospace;background-color: #f0f8ff;border: 1px dotted black;border-radius: 0.25em;box-sizing: border-box;margin-bottom: 0.5em;}#sk-container-id-1 div.sk-estimator:hover {background-color: #d4ebff;}#sk-container-id-1 div.sk-parallel-item::after {content: \"\";width: 100%;border-bottom: 1px solid gray;flex-grow: 1;}#sk-container-id-1 div.sk-label:hover label.sk-toggleable__label {background-color: #d4ebff;}#sk-container-id-1 div.sk-serial::before {content: \"\";position: absolute;border-left: 1px solid gray;box-sizing: border-box;top: 0;bottom: 0;left: 50%;z-index: 0;}#sk-container-id-1 div.sk-serial {display: flex;flex-direction: column;align-items: center;background-color: white;padding-right: 0.2em;padding-left: 0.2em;position: relative;}#sk-container-id-1 div.sk-item {position: relative;z-index: 1;}#sk-container-id-1 div.sk-parallel {display: flex;align-items: stretch;justify-content: center;background-color: white;position: relative;}#sk-container-id-1 div.sk-item::before, #sk-container-id-1 div.sk-parallel-item::before {content: \"\";position: absolute;border-left: 1px solid gray;box-sizing: border-box;top: 0;bottom: 0;left: 50%;z-index: -1;}#sk-container-id-1 div.sk-parallel-item {display: flex;flex-direction: column;z-index: 1;position: relative;background-color: white;}#sk-container-id-1 div.sk-parallel-item:first-child::after {align-self: flex-end;width: 50%;}#sk-container-id-1 div.sk-parallel-item:last-child::after {align-self: flex-start;width: 50%;}#sk-container-id-1 div.sk-parallel-item:only-child::after {width: 0;}#sk-container-id-1 div.sk-dashed-wrapped {border: 1px dashed gray;margin: 0 0.4em 0.5em 0.4em;box-sizing: border-box;padding-bottom: 0.4em;background-color: white;}#sk-container-id-1 div.sk-label label {font-family: monospace;font-weight: bold;display: inline-block;line-height: 1.2em;}#sk-container-id-1 div.sk-label-container {text-align: center;}#sk-container-id-1 div.sk-container {/* jupyter's `normalize.less` sets `[hidden] { display: none; }` but bootstrap.min.css set `[hidden] { display: none !important; }` so we also need the `!important` here to be able to override the default hidden behavior on the sphinx rendered scikit-learn.org. See: https://github.com/scikit-learn/scikit-learn/issues/21755 */display: inline-block !important;position: relative;}#sk-container-id-1 div.sk-text-repr-fallback {display: none;}</style><div id=\"sk-container-id-1\" class=\"sk-top-container\"><div class=\"sk-text-repr-fallback\"><pre>KNeighborsClassifier(n_neighbors=2)</pre><b>In a Jupyter environment, please rerun this cell to show the HTML representation or trust the notebook. <br />On GitHub, the HTML representation is unable to render, please try loading this page with nbviewer.org.</b></div><div class=\"sk-container\" hidden><div class=\"sk-item\"><div class=\"sk-estimator sk-toggleable\"><input class=\"sk-toggleable__control sk-hidden--visually\" id=\"sk-estimator-id-1\" type=\"checkbox\" checked><label for=\"sk-estimator-id-1\" class=\"sk-toggleable__label sk-toggleable__label-arrow\">KNeighborsClassifier</label><div class=\"sk-toggleable__content\"><pre>KNeighborsClassifier(n_neighbors=2)</pre></div></div></div></div></div>"
          },
          "metadata": {}
        }
      ]
    },
    {
      "cell_type": "code",
      "source": [
        "y_pred = knn.predict(x_test)"
      ],
      "metadata": {
        "execution": {
          "iopub.status.busy": "2023-06-06T03:34:04.254560Z",
          "iopub.execute_input": "2023-06-06T03:34:04.254938Z",
          "iopub.status.idle": "2023-06-06T03:38:21.242079Z",
          "shell.execute_reply.started": "2023-06-06T03:34:04.254896Z",
          "shell.execute_reply": "2023-06-06T03:38:21.240877Z"
        },
        "trusted": true,
        "id": "kydHJvLfiHHq"
      },
      "execution_count": null,
      "outputs": []
    },
    {
      "cell_type": "code",
      "source": [
        "score = f1_score(y_test, y_pred)\n",
        "score"
      ],
      "metadata": {
        "execution": {
          "iopub.status.busy": "2023-06-06T03:38:21.243902Z",
          "iopub.execute_input": "2023-06-06T03:38:21.244260Z",
          "iopub.status.idle": "2023-06-06T03:38:22.311835Z",
          "shell.execute_reply.started": "2023-06-06T03:38:21.244232Z",
          "shell.execute_reply": "2023-06-06T03:38:22.310824Z"
        },
        "trusted": true,
        "id": "J9d7yPSziHHr",
        "outputId": "4819c778-cad5-473d-e055-02bc083faa94"
      },
      "execution_count": null,
      "outputs": [
        {
          "execution_count": 27,
          "output_type": "execute_result",
          "data": {
            "text/plain": "0.5922182920667004"
          },
          "metadata": {}
        }
      ]
    },
    {
      "cell_type": "markdown",
      "source": [
        "# Another Model Creation with Gradient Boooting\n",
        "\n",
        "The second method i have used here is Gradient Boosting, It is machine learning technique which comes under the ensembling technique. This technique will create a initial model and with simple predictions based on the average value of targeted variable. In further Iteration, the new trees will be added with thecombined prediction previous tree. The New tree is to minimize the errors and residue in the previous trees."
      ],
      "metadata": {
        "id": "uy4THbyTiHHr"
      }
    },
    {
      "cell_type": "code",
      "source": [
        "x = data1.drop(['isFraud', 'isFlaggedFraud'], axis=1)\n",
        "y = data1['isFraud']\n",
        "\n",
        "x_train, x_test, y_train, y_test = train_test_split(x, y, test_size=.5, random_state=10, shuffle=True, stratify=y)"
      ],
      "metadata": {
        "execution": {
          "iopub.status.busy": "2023-06-06T04:10:19.625353Z",
          "iopub.execute_input": "2023-06-06T04:10:19.626294Z",
          "iopub.status.idle": "2023-06-06T04:10:23.782934Z",
          "shell.execute_reply.started": "2023-06-06T04:10:19.626247Z",
          "shell.execute_reply": "2023-06-06T04:10:23.782149Z"
        },
        "trusted": true,
        "id": "xHLTgar4iHHr"
      },
      "execution_count": null,
      "outputs": []
    },
    {
      "cell_type": "code",
      "source": [
        "gb = GradientBoostingClassifier()\n",
        "gb.fit(x_train, y_train)"
      ],
      "metadata": {
        "execution": {
          "iopub.status.busy": "2023-06-06T03:38:26.275176Z",
          "iopub.execute_input": "2023-06-06T03:38:26.275469Z",
          "iopub.status.idle": "2023-06-06T03:55:52.528614Z",
          "shell.execute_reply.started": "2023-06-06T03:38:26.275446Z",
          "shell.execute_reply": "2023-06-06T03:55:52.527867Z"
        },
        "trusted": true,
        "id": "MCPu5mgTiHHr",
        "outputId": "587a9586-2d1e-4785-82ce-b66af4a09d0e"
      },
      "execution_count": null,
      "outputs": [
        {
          "execution_count": 29,
          "output_type": "execute_result",
          "data": {
            "text/plain": "GradientBoostingClassifier()",
            "text/html": "<style>#sk-container-id-2 {color: black;background-color: white;}#sk-container-id-2 pre{padding: 0;}#sk-container-id-2 div.sk-toggleable {background-color: white;}#sk-container-id-2 label.sk-toggleable__label {cursor: pointer;display: block;width: 100%;margin-bottom: 0;padding: 0.3em;box-sizing: border-box;text-align: center;}#sk-container-id-2 label.sk-toggleable__label-arrow:before {content: \"▸\";float: left;margin-right: 0.25em;color: #696969;}#sk-container-id-2 label.sk-toggleable__label-arrow:hover:before {color: black;}#sk-container-id-2 div.sk-estimator:hover label.sk-toggleable__label-arrow:before {color: black;}#sk-container-id-2 div.sk-toggleable__content {max-height: 0;max-width: 0;overflow: hidden;text-align: left;background-color: #f0f8ff;}#sk-container-id-2 div.sk-toggleable__content pre {margin: 0.2em;color: black;border-radius: 0.25em;background-color: #f0f8ff;}#sk-container-id-2 input.sk-toggleable__control:checked~div.sk-toggleable__content {max-height: 200px;max-width: 100%;overflow: auto;}#sk-container-id-2 input.sk-toggleable__control:checked~label.sk-toggleable__label-arrow:before {content: \"▾\";}#sk-container-id-2 div.sk-estimator input.sk-toggleable__control:checked~label.sk-toggleable__label {background-color: #d4ebff;}#sk-container-id-2 div.sk-label input.sk-toggleable__control:checked~label.sk-toggleable__label {background-color: #d4ebff;}#sk-container-id-2 input.sk-hidden--visually {border: 0;clip: rect(1px 1px 1px 1px);clip: rect(1px, 1px, 1px, 1px);height: 1px;margin: -1px;overflow: hidden;padding: 0;position: absolute;width: 1px;}#sk-container-id-2 div.sk-estimator {font-family: monospace;background-color: #f0f8ff;border: 1px dotted black;border-radius: 0.25em;box-sizing: border-box;margin-bottom: 0.5em;}#sk-container-id-2 div.sk-estimator:hover {background-color: #d4ebff;}#sk-container-id-2 div.sk-parallel-item::after {content: \"\";width: 100%;border-bottom: 1px solid gray;flex-grow: 1;}#sk-container-id-2 div.sk-label:hover label.sk-toggleable__label {background-color: #d4ebff;}#sk-container-id-2 div.sk-serial::before {content: \"\";position: absolute;border-left: 1px solid gray;box-sizing: border-box;top: 0;bottom: 0;left: 50%;z-index: 0;}#sk-container-id-2 div.sk-serial {display: flex;flex-direction: column;align-items: center;background-color: white;padding-right: 0.2em;padding-left: 0.2em;position: relative;}#sk-container-id-2 div.sk-item {position: relative;z-index: 1;}#sk-container-id-2 div.sk-parallel {display: flex;align-items: stretch;justify-content: center;background-color: white;position: relative;}#sk-container-id-2 div.sk-item::before, #sk-container-id-2 div.sk-parallel-item::before {content: \"\";position: absolute;border-left: 1px solid gray;box-sizing: border-box;top: 0;bottom: 0;left: 50%;z-index: -1;}#sk-container-id-2 div.sk-parallel-item {display: flex;flex-direction: column;z-index: 1;position: relative;background-color: white;}#sk-container-id-2 div.sk-parallel-item:first-child::after {align-self: flex-end;width: 50%;}#sk-container-id-2 div.sk-parallel-item:last-child::after {align-self: flex-start;width: 50%;}#sk-container-id-2 div.sk-parallel-item:only-child::after {width: 0;}#sk-container-id-2 div.sk-dashed-wrapped {border: 1px dashed gray;margin: 0 0.4em 0.5em 0.4em;box-sizing: border-box;padding-bottom: 0.4em;background-color: white;}#sk-container-id-2 div.sk-label label {font-family: monospace;font-weight: bold;display: inline-block;line-height: 1.2em;}#sk-container-id-2 div.sk-label-container {text-align: center;}#sk-container-id-2 div.sk-container {/* jupyter's `normalize.less` sets `[hidden] { display: none; }` but bootstrap.min.css set `[hidden] { display: none !important; }` so we also need the `!important` here to be able to override the default hidden behavior on the sphinx rendered scikit-learn.org. See: https://github.com/scikit-learn/scikit-learn/issues/21755 */display: inline-block !important;position: relative;}#sk-container-id-2 div.sk-text-repr-fallback {display: none;}</style><div id=\"sk-container-id-2\" class=\"sk-top-container\"><div class=\"sk-text-repr-fallback\"><pre>GradientBoostingClassifier()</pre><b>In a Jupyter environment, please rerun this cell to show the HTML representation or trust the notebook. <br />On GitHub, the HTML representation is unable to render, please try loading this page with nbviewer.org.</b></div><div class=\"sk-container\" hidden><div class=\"sk-item\"><div class=\"sk-estimator sk-toggleable\"><input class=\"sk-toggleable__control sk-hidden--visually\" id=\"sk-estimator-id-2\" type=\"checkbox\" checked><label for=\"sk-estimator-id-2\" class=\"sk-toggleable__label sk-toggleable__label-arrow\">GradientBoostingClassifier</label><div class=\"sk-toggleable__content\"><pre>GradientBoostingClassifier()</pre></div></div></div></div></div>"
          },
          "metadata": {}
        }
      ]
    },
    {
      "cell_type": "code",
      "source": [
        "y_pred = gb.predict(x_test)"
      ],
      "metadata": {
        "execution": {
          "iopub.status.busy": "2023-06-06T04:10:29.326647Z",
          "iopub.execute_input": "2023-06-06T04:10:29.327049Z",
          "iopub.status.idle": "2023-06-06T04:10:32.804071Z",
          "shell.execute_reply.started": "2023-06-06T04:10:29.327016Z",
          "shell.execute_reply": "2023-06-06T04:10:32.802973Z"
        },
        "trusted": true,
        "id": "KvqGqaG9iHHr"
      },
      "execution_count": null,
      "outputs": []
    },
    {
      "cell_type": "code",
      "source": [
        "score = f1_score(y_test, y_pred)\n",
        "score"
      ],
      "metadata": {
        "execution": {
          "iopub.status.busy": "2023-06-06T04:10:34.984493Z",
          "iopub.execute_input": "2023-06-06T04:10:34.984872Z",
          "iopub.status.idle": "2023-06-06T04:10:36.041511Z",
          "shell.execute_reply.started": "2023-06-06T04:10:34.984841Z",
          "shell.execute_reply": "2023-06-06T04:10:36.040380Z"
        },
        "trusted": true,
        "id": "zc0tqzhAiHHr",
        "outputId": "d11137a8-e535-4966-dda9-8798a2750c3f"
      },
      "execution_count": null,
      "outputs": [
        {
          "execution_count": 41,
          "output_type": "execute_result",
          "data": {
            "text/plain": "0.7748022755654224"
          },
          "metadata": {}
        }
      ]
    },
    {
      "cell_type": "code",
      "source": [
        "print(f'Classification Report of Gradient Boost Classifier: \\n\\n{classification_report(y_test,y_pred)}')"
      ],
      "metadata": {
        "execution": {
          "iopub.status.busy": "2023-06-06T04:10:55.125102Z",
          "iopub.execute_input": "2023-06-06T04:10:55.125468Z",
          "iopub.status.idle": "2023-06-06T04:10:59.827420Z",
          "shell.execute_reply.started": "2023-06-06T04:10:55.125442Z",
          "shell.execute_reply": "2023-06-06T04:10:59.826267Z"
        },
        "trusted": true,
        "id": "RVFaGFvWiHHr",
        "outputId": "4fff1bed-1259-4f94-c93c-5dccd5bdecca"
      },
      "execution_count": null,
      "outputs": [
        {
          "name": "stdout",
          "text": "Classification Report of Gradient Boost Classifier: \n\n              precision    recall  f1-score   support\n\n           0       1.00      1.00      1.00   3177203\n           1       0.90      0.68      0.77      4107\n\n    accuracy                           1.00   3181310\n   macro avg       0.95      0.84      0.89   3181310\nweighted avg       1.00      1.00      1.00   3181310\n\n",
          "output_type": "stream"
        }
      ]
    },
    {
      "cell_type": "markdown",
      "source": [
        "# Model Creation with Extream GB\n",
        "\n",
        "The third model ihave used here is ExtremeGb.It makes an Optimized Implementaion from the Gradient Boosting algorithm.It leads us to high performance model.It prevents overfitting."
      ],
      "metadata": {
        "id": "CAqomYyQiHHw"
      }
    },
    {
      "cell_type": "code",
      "source": [
        "x = data1.drop(['isFraud', 'isFlaggedFraud'], axis=1)\n",
        "y = data1['isFraud']\n",
        "\n",
        "x_train, x_test, y_train, y_test = train_test_split(x, y, test_size=.5, random_state=10, shuffle=True, stratify=y)"
      ],
      "metadata": {
        "execution": {
          "iopub.status.busy": "2023-06-06T04:01:19.668900Z",
          "iopub.execute_input": "2023-06-06T04:01:19.669306Z",
          "iopub.status.idle": "2023-06-06T04:01:23.681346Z",
          "shell.execute_reply.started": "2023-06-06T04:01:19.669274Z",
          "shell.execute_reply": "2023-06-06T04:01:23.680288Z"
        },
        "trusted": true,
        "id": "Qke046QgiHHw"
      },
      "execution_count": null,
      "outputs": []
    },
    {
      "cell_type": "code",
      "source": [
        "scaler = MinMaxScaler()\n",
        "scaler.fit(x_train)\n",
        "x_train = scaler.transform(x_train)\n",
        "x_test = scaler.transform(x_test)"
      ],
      "metadata": {
        "execution": {
          "iopub.status.busy": "2023-06-06T04:02:29.472525Z",
          "iopub.execute_input": "2023-06-06T04:02:29.472901Z",
          "iopub.status.idle": "2023-06-06T04:02:30.271510Z",
          "shell.execute_reply.started": "2023-06-06T04:02:29.472875Z",
          "shell.execute_reply": "2023-06-06T04:02:30.270521Z"
        },
        "trusted": true,
        "id": "7WYiMD-2iHHw"
      },
      "execution_count": null,
      "outputs": []
    },
    {
      "cell_type": "code",
      "source": [
        "xgb = XGBClassifier()\n",
        "xgb.fit(x_train, y_train)"
      ],
      "metadata": {
        "execution": {
          "iopub.status.busy": "2023-06-06T04:03:23.883688Z",
          "iopub.execute_input": "2023-06-06T04:03:23.884098Z",
          "iopub.status.idle": "2023-06-06T04:07:42.715721Z",
          "shell.execute_reply.started": "2023-06-06T04:03:23.884066Z",
          "shell.execute_reply": "2023-06-06T04:07:42.714941Z"
        },
        "trusted": true,
        "id": "eFiQlyXdiHHx",
        "outputId": "5e0e4df0-d490-4c41-c8ec-a656a9d8e8a9"
      },
      "execution_count": null,
      "outputs": [
        {
          "execution_count": 35,
          "output_type": "execute_result",
          "data": {
            "text/plain": "XGBClassifier(base_score=None, booster=None, callbacks=None,\n              colsample_bylevel=None, colsample_bynode=None,\n              colsample_bytree=None, early_stopping_rounds=None,\n              enable_categorical=False, eval_metric=None, feature_types=None,\n              gamma=None, gpu_id=None, grow_policy=None, importance_type=None,\n              interaction_constraints=None, learning_rate=None, max_bin=None,\n              max_cat_threshold=None, max_cat_to_onehot=None,\n              max_delta_step=None, max_depth=None, max_leaves=None,\n              min_child_weight=None, missing=nan, monotone_constraints=None,\n              n_estimators=100, n_jobs=None, num_parallel_tree=None,\n              predictor=None, random_state=None, ...)",
            "text/html": "<style>#sk-container-id-3 {color: black;background-color: white;}#sk-container-id-3 pre{padding: 0;}#sk-container-id-3 div.sk-toggleable {background-color: white;}#sk-container-id-3 label.sk-toggleable__label {cursor: pointer;display: block;width: 100%;margin-bottom: 0;padding: 0.3em;box-sizing: border-box;text-align: center;}#sk-container-id-3 label.sk-toggleable__label-arrow:before {content: \"▸\";float: left;margin-right: 0.25em;color: #696969;}#sk-container-id-3 label.sk-toggleable__label-arrow:hover:before {color: black;}#sk-container-id-3 div.sk-estimator:hover label.sk-toggleable__label-arrow:before {color: black;}#sk-container-id-3 div.sk-toggleable__content {max-height: 0;max-width: 0;overflow: hidden;text-align: left;background-color: #f0f8ff;}#sk-container-id-3 div.sk-toggleable__content pre {margin: 0.2em;color: black;border-radius: 0.25em;background-color: #f0f8ff;}#sk-container-id-3 input.sk-toggleable__control:checked~div.sk-toggleable__content {max-height: 200px;max-width: 100%;overflow: auto;}#sk-container-id-3 input.sk-toggleable__control:checked~label.sk-toggleable__label-arrow:before {content: \"▾\";}#sk-container-id-3 div.sk-estimator input.sk-toggleable__control:checked~label.sk-toggleable__label {background-color: #d4ebff;}#sk-container-id-3 div.sk-label input.sk-toggleable__control:checked~label.sk-toggleable__label {background-color: #d4ebff;}#sk-container-id-3 input.sk-hidden--visually {border: 0;clip: rect(1px 1px 1px 1px);clip: rect(1px, 1px, 1px, 1px);height: 1px;margin: -1px;overflow: hidden;padding: 0;position: absolute;width: 1px;}#sk-container-id-3 div.sk-estimator {font-family: monospace;background-color: #f0f8ff;border: 1px dotted black;border-radius: 0.25em;box-sizing: border-box;margin-bottom: 0.5em;}#sk-container-id-3 div.sk-estimator:hover {background-color: #d4ebff;}#sk-container-id-3 div.sk-parallel-item::after {content: \"\";width: 100%;border-bottom: 1px solid gray;flex-grow: 1;}#sk-container-id-3 div.sk-label:hover label.sk-toggleable__label {background-color: #d4ebff;}#sk-container-id-3 div.sk-serial::before {content: \"\";position: absolute;border-left: 1px solid gray;box-sizing: border-box;top: 0;bottom: 0;left: 50%;z-index: 0;}#sk-container-id-3 div.sk-serial {display: flex;flex-direction: column;align-items: center;background-color: white;padding-right: 0.2em;padding-left: 0.2em;position: relative;}#sk-container-id-3 div.sk-item {position: relative;z-index: 1;}#sk-container-id-3 div.sk-parallel {display: flex;align-items: stretch;justify-content: center;background-color: white;position: relative;}#sk-container-id-3 div.sk-item::before, #sk-container-id-3 div.sk-parallel-item::before {content: \"\";position: absolute;border-left: 1px solid gray;box-sizing: border-box;top: 0;bottom: 0;left: 50%;z-index: -1;}#sk-container-id-3 div.sk-parallel-item {display: flex;flex-direction: column;z-index: 1;position: relative;background-color: white;}#sk-container-id-3 div.sk-parallel-item:first-child::after {align-self: flex-end;width: 50%;}#sk-container-id-3 div.sk-parallel-item:last-child::after {align-self: flex-start;width: 50%;}#sk-container-id-3 div.sk-parallel-item:only-child::after {width: 0;}#sk-container-id-3 div.sk-dashed-wrapped {border: 1px dashed gray;margin: 0 0.4em 0.5em 0.4em;box-sizing: border-box;padding-bottom: 0.4em;background-color: white;}#sk-container-id-3 div.sk-label label {font-family: monospace;font-weight: bold;display: inline-block;line-height: 1.2em;}#sk-container-id-3 div.sk-label-container {text-align: center;}#sk-container-id-3 div.sk-container {/* jupyter's `normalize.less` sets `[hidden] { display: none; }` but bootstrap.min.css set `[hidden] { display: none !important; }` so we also need the `!important` here to be able to override the default hidden behavior on the sphinx rendered scikit-learn.org. See: https://github.com/scikit-learn/scikit-learn/issues/21755 */display: inline-block !important;position: relative;}#sk-container-id-3 div.sk-text-repr-fallback {display: none;}</style><div id=\"sk-container-id-3\" class=\"sk-top-container\"><div class=\"sk-text-repr-fallback\"><pre>XGBClassifier(base_score=None, booster=None, callbacks=None,\n              colsample_bylevel=None, colsample_bynode=None,\n              colsample_bytree=None, early_stopping_rounds=None,\n              enable_categorical=False, eval_metric=None, feature_types=None,\n              gamma=None, gpu_id=None, grow_policy=None, importance_type=None,\n              interaction_constraints=None, learning_rate=None, max_bin=None,\n              max_cat_threshold=None, max_cat_to_onehot=None,\n              max_delta_step=None, max_depth=None, max_leaves=None,\n              min_child_weight=None, missing=nan, monotone_constraints=None,\n              n_estimators=100, n_jobs=None, num_parallel_tree=None,\n              predictor=None, random_state=None, ...)</pre><b>In a Jupyter environment, please rerun this cell to show the HTML representation or trust the notebook. <br />On GitHub, the HTML representation is unable to render, please try loading this page with nbviewer.org.</b></div><div class=\"sk-container\" hidden><div class=\"sk-item\"><div class=\"sk-estimator sk-toggleable\"><input class=\"sk-toggleable__control sk-hidden--visually\" id=\"sk-estimator-id-3\" type=\"checkbox\" checked><label for=\"sk-estimator-id-3\" class=\"sk-toggleable__label sk-toggleable__label-arrow\">XGBClassifier</label><div class=\"sk-toggleable__content\"><pre>XGBClassifier(base_score=None, booster=None, callbacks=None,\n              colsample_bylevel=None, colsample_bynode=None,\n              colsample_bytree=None, early_stopping_rounds=None,\n              enable_categorical=False, eval_metric=None, feature_types=None,\n              gamma=None, gpu_id=None, grow_policy=None, importance_type=None,\n              interaction_constraints=None, learning_rate=None, max_bin=None,\n              max_cat_threshold=None, max_cat_to_onehot=None,\n              max_delta_step=None, max_depth=None, max_leaves=None,\n              min_child_weight=None, missing=nan, monotone_constraints=None,\n              n_estimators=100, n_jobs=None, num_parallel_tree=None,\n              predictor=None, random_state=None, ...)</pre></div></div></div></div></div>"
          },
          "metadata": {}
        }
      ]
    },
    {
      "cell_type": "code",
      "source": [
        "y_pred = xgb.predict(x_test)"
      ],
      "metadata": {
        "execution": {
          "iopub.status.busy": "2023-06-06T04:08:21.115501Z",
          "iopub.execute_input": "2023-06-06T04:08:21.115935Z",
          "iopub.status.idle": "2023-06-06T04:08:24.236582Z",
          "shell.execute_reply.started": "2023-06-06T04:08:21.115885Z",
          "shell.execute_reply": "2023-06-06T04:08:24.235718Z"
        },
        "trusted": true,
        "id": "C2ncPguhiHHx"
      },
      "execution_count": null,
      "outputs": []
    },
    {
      "cell_type": "code",
      "source": [
        "score = f1_score(y_test, y_pred)\n",
        "score"
      ],
      "metadata": {
        "execution": {
          "iopub.status.busy": "2023-06-06T04:08:33.375013Z",
          "iopub.execute_input": "2023-06-06T04:08:33.375409Z",
          "iopub.status.idle": "2023-06-06T04:08:34.463406Z",
          "shell.execute_reply.started": "2023-06-06T04:08:33.375380Z",
          "shell.execute_reply": "2023-06-06T04:08:34.462595Z"
        },
        "trusted": true,
        "id": "xSdo-RG1iHHx",
        "outputId": "e6c769b3-2380-46f7-d39d-0733121011b6"
      },
      "execution_count": null,
      "outputs": [
        {
          "execution_count": 37,
          "output_type": "execute_result",
          "data": {
            "text/plain": "0.9172893584127803"
          },
          "metadata": {}
        }
      ]
    },
    {
      "cell_type": "code",
      "source": [
        "print(f'Classification Report of XGB Classifier: \\n\\n{classification_report(y_test,y_pred)}')"
      ],
      "metadata": {
        "execution": {
          "iopub.status.busy": "2023-06-06T04:09:39.070350Z",
          "iopub.execute_input": "2023-06-06T04:09:39.071253Z",
          "iopub.status.idle": "2023-06-06T04:09:43.853068Z",
          "shell.execute_reply.started": "2023-06-06T04:09:39.071218Z",
          "shell.execute_reply": "2023-06-06T04:09:43.852000Z"
        },
        "trusted": true,
        "id": "MEvYs5jwiHHx",
        "outputId": "45c05b6f-fc3e-4a7f-fec2-9dc12176d8c2"
      },
      "execution_count": null,
      "outputs": [
        {
          "name": "stdout",
          "text": "Classification Report of XGB Classifier: \n\n              precision    recall  f1-score   support\n\n           0       1.00      1.00      1.00   3177203\n           1       0.97      0.87      0.92      4107\n\n    accuracy                           1.00   3181310\n   macro avg       0.99      0.93      0.96   3181310\nweighted avg       1.00      1.00      1.00   3181310\n\n",
          "output_type": "stream"
        }
      ]
    },
    {
      "cell_type": "markdown",
      "source": [
        "# Conclusion :\n",
        "\n",
        "              Comparing all the above models ** XGB works better**"
      ],
      "metadata": {
        "id": "4hTWSO_2iHHy"
      }
    },
    {
      "cell_type": "markdown",
      "source": [
        "## Fraud Detection Model :: 1 - KNN, 2- Gradiant Boosting, 3- ExtremeGB"
      ],
      "metadata": {
        "id": "CYil3DFhl15B"
      }
    },
    {
      "cell_type": "code",
      "source": [],
      "metadata": {
        "id": "AUDWQXhSo_zp"
      },
      "execution_count": null,
      "outputs": []
    },
    {
      "cell_type": "markdown",
      "source": [
        "## 1. KNN\n",
        "\n",
        "  Here i have used KNN Model which ia a supervised machine learning algorithm.It classifies and predict a new type of data instances with the simalrity of the training set(instances).So, this model calculates the distance between the new data point and all training instances and further it will selects the K nearest neighbours and conclude the class label or predict the output values based on majority or average of neighbours. \n",
        "\n",
        "    **F1 SCORE** for this  - 0.5922182920667004"
      ],
      "metadata": {
        "id": "4lEJA5mgmFwv"
      }
    },
    {
      "cell_type": "markdown",
      "source": [
        "## 2. Gradient Bossting\n",
        "\n",
        "The second model i have used here is Gradient Boosting, It is machine learning technique which comes under the ensembling technique. This technique will create a initial model and with simple predictions based on the average value of targeted variable. In further Iteration, the new trees will be added with thecombined prediction previous tree. The New tree is to minimize the errors and residue in the previous trees.\n",
        "\n",
        "    **F1 Score** for this - 0.7748022755654224 \n",
        "\n"
      ],
      "metadata": {
        "id": "ifLaoqjJoHQb"
      }
    },
    {
      "cell_type": "markdown",
      "source": [
        "## 3. ExtremeGB\n",
        "\n",
        "The third model ihave used here is ExtremeGb.It makes an Optimized Implementaion\n",
        "from the Gradient Boosting algorithm.It leads us to high performance model.It prevents overfitting.\n",
        "\n",
        "    **F1 Score** this - 0.7748022755654224"
      ],
      "metadata": {
        "id": "VYfvYbDosvqY"
      }
    },
    {
      "cell_type": "markdown",
      "source": [
        "\n",
        "##Variables to Be Included\n",
        "\n",
        "According to the Data Dictionary of this Statement<\n",
        "\n",
        "**step** - maps a unit of time in the real world. In this case 1 step is 1 hour of time. Total steps 744 (30 days simulation).\n",
        "\n",
        "**type** - CASH-IN, CASH-OUT, DEBIT, PAYMENT and TRANSFER.\n",
        "\n",
        "**amount** - amount of the transaction in local currency.\n",
        "\n",
        "**nameOrig** - customer who started the transaction\n",
        "\n",
        "**oldbalanceOrg** - initial balance before the transaction\n",
        "\n",
        "**newbalanceOrig** - new balance after the transaction\n",
        "\n",
        "**nameDest** - customer who is the recipient of the transaction\n",
        "\n",
        "**oldbalanceDest** - initial balance recipient before the transaction. Note that there is not information for customers that start with M (Merchants).\n",
        "\n",
        "**newbalanceDest** - new balance recipient after the transaction. Note that there is not information for customers that start with M (Merchants).\n",
        "\n",
        "**isFraud** - This is the transactions made by the fraudulent agents inside the simulation. In this specific dataset the fraudulent behavior of the agents aims to profit by taking control or customers accounts and try to empty the funds by transferring to another account and then cashing out of the system.\n",
        "\n",
        "**isFlaggedFraud** - The business model aims to control massive transfers from one account to another and flags illegal attempts. An illegal attempt in this dataset is an attempt to transfer more than 200.000 in a single transaction."
      ],
      "metadata": {
        "id": "fJpeZDQ8vNGr"
      }
    },
    {
      "cell_type": "markdown",
      "source": [
        "##Key Factors that predict Fradulent Customer\n",
        "\n",
        "The major key factor i have considerd to predict the Fardulent Customer are:-\n",
        "\n",
        "Transaction Type, Transaction Amount, Balance Differentials, Customer Behavior(typical pattern of Transaction)"
      ],
      "metadata": {
        "id": "Vig6Lug2vnf4"
      }
    },
    {
      "cell_type": "markdown",
      "source": [
        "\n",
        "##Do these factors make sense?\n",
        "\n",
        "Yes, these factors makes sense. These factors align with the common patterns and indictors observed in Financial Domain. Soo, by considering these factor' relationships we can differntiate the fraudulent customers from the legitiamte ones."
      ],
      "metadata": {
        "id": "5eJ56o45wj2z"
      }
    },
    {
      "cell_type": "markdown",
      "source": [
        "## Kind of prevention should be adopted while company update its infrastructure?\n",
        "\n",
        "The company should adopt some major preventions and  so it can prevent from fraudelnt activities. So, the Major preventions to be considered are: Robust Authentication and Authorization, Real-Time Monitoring and Alert Systems,\n",
        "Anomaly Detection and Machine Learning, Transaction Monitoring and Anti-Money Laundering (AML) Procedures, Customer Verification and KYC, Employee Training and Awareness, Regular Security Audits and Assessments.\n"
      ],
      "metadata": {
        "id": "CsaAtvJUxoKC"
      }
    },
    {
      "cell_type": "markdown",
      "source": [
        "## Assuming these actions have been implemented, how would you determine if they work?\n",
        "\n",
        "To determine the implemented actions whether working or not; we should employ some evaluation methods for evaluation. So, some of they are : Monitoring Key Performance Indicators (KPIs), Comparative Analysis, Benchmarking, Continuous Testing and Simulation, Internal and External Audits, Compliance Monitoring"
      ],
      "metadata": {
        "id": "7vmQU1obyfW-"
      }
    }
  ]
}